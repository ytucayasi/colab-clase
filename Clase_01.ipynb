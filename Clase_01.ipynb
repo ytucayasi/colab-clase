{
  "nbformat": 4,
  "nbformat_minor": 0,
  "metadata": {
    "colab": {
      "provenance": [],
      "collapsed_sections": [
        "0_zG6MOwudCY"
      ],
      "toc_visible": true,
      "mount_file_id": "1nKdc5c-EXkIoYf3sew1AHN6r_94dmKYf",
      "authorship_tag": "ABX9TyN7GHIGuZ/Z9R/vKcdLVczv",
      "include_colab_link": true
    },
    "kernelspec": {
      "name": "python3",
      "display_name": "Python 3"
    },
    "language_info": {
      "name": "python"
    }
  },
  "cells": [
    {
      "cell_type": "markdown",
      "metadata": {
        "id": "view-in-github",
        "colab_type": "text"
      },
      "source": [
        "<a href=\"https://colab.research.google.com/github/ytucayasi/colab-clase/blob/main/Clase_01.ipynb\" target=\"_parent\"><img src=\"https://colab.research.google.com/assets/colab-badge.svg\" alt=\"Open In Colab\"/></a>"
      ]
    },
    {
      "cell_type": "markdown",
      "source": [
        "#Ejercicio 1 - Carga de archivos CSV desde Drive"
      ],
      "metadata": {
        "id": "SSWALtf8s9GA"
      }
    },
    {
      "cell_type": "code",
      "source": [
        "import pandas as pd\n",
        "import matplotlib.pyplot as plt\n",
        "datos = pd.read_csv('https://docs.google.com/spreadsheets/d/e/2PACX-1vTcW09-oTkoYWRYtSFcIIk1dpLQF6u4KfgQVKL_iW7eSYRqXtLcItmzuQj1TJuS3RmaUINciKzHdO8n/pub?gid=414956880&single=true&output=csv')\n",
        "#Obtenemos la suma de los ingresos\n",
        "suma_ingresos =datos[\"ingresos\"].sum()\n",
        "print(\"Los ingresos totales son: \", suma_ingresos)\n",
        "\n",
        "#Obtenemos el promedo de las edades\n",
        "promedio_edad = int(datos[\"edad\"].mean())\n",
        "print(\"El promedio de edad es: \", promedio_edad)\n",
        "\n",
        "#conteo de las personas que viven en arequipa\n",
        "conteo = datos[\"ciudad\"]\n",
        "arr = list(conteo)\n",
        "conteo = 0\n",
        "for x in arr:\n",
        "  if x == \"Arequipa\":\n",
        "    conteo += 1\n",
        "print(\"El conteo de Arequipa es: \", conteo)\n",
        "\n",
        "#Conteo de las personas que viven en Arequipa\n",
        "print((datos[(datos['ciudad']=='Arequipa')]))\n",
        "\n",
        "#Obtenemos le promedio de ingresos por ciudad\n",
        "promedio_ciudad = datos.groupby('ciudad')['ingresos'].mean().astype(int)\n",
        "print(promedio_ciudad)\n",
        "\n",
        "#La persona mas mayor y joven de la lista\n",
        "persona_joven = datos[(datos['edad'] == datos['edad'].min())]\n",
        "persona_mayor = datos[(datos['edad'] == datos['edad'].max())]\n",
        "print('La persona mas joven es: ', list(persona_joven['nombre'])[0], \" Trabaja en la ciudad de: \", list(persona_joven['ciudad'])[0])\n",
        "print('La persona mas mayor es: ', list(persona_mayor['nombre'])[0], \" Trabaja en la ciudad de: \", list(persona_mayor['ciudad'])[0])\n",
        "\n",
        "# Agrupar por ciudad de menor a mayor\n",
        "personas_por_ciudad = datos.groupby('ciudad')['nombre'].count()\n",
        "print(personas_por_ciudad)\n",
        "\n",
        "#Ordenar los datos por edad de forma ascendente\n",
        "personas = datos.sort_values('edad', ascending=True)\n",
        "print(personas)"
      ],
      "metadata": {
        "colab": {
          "base_uri": "https://localhost:8080/"
        },
        "id": "U6wMmi9ptQCA",
        "outputId": "5c365bae-4e2f-43bd-bc4f-ae93cac0eacd"
      },
      "execution_count": 109,
      "outputs": [
        {
          "output_type": "stream",
          "name": "stdout",
          "text": [
            "Los ingresos totales son:  76180\n",
            "El promedio de edad es:  31\n",
            "El conteo de Arequipa es:  5\n",
            "      nombre  edad    ciudad  ingresos\n",
            "1      María    28  Arequipa      3800\n",
            "4      Pedro    28  Arequipa      3200\n",
            "10  Gabriela    33  Arequipa      4000\n",
            "15    Javier    32  Arequipa      5000\n",
            "21      José    34  Arequipa      4200\n",
            "ciudad\n",
            "Arequipa    4040\n",
            "Cusco       2975\n",
            "Juliaca     4990\n",
            "Lima        3366\n",
            "Puno        1300\n",
            "Trujillo    2520\n",
            "Name: ingresos, dtype: int64\n",
            "La persona mas joven es:  Micaela  Trabaja en la ciudad de:  Juliaca\n",
            "La persona mas mayor es:  Leonel  Trabaja en la ciudad de:  Juliaca\n",
            "ciudad\n",
            "Arequipa    5\n",
            "Cusco       4\n",
            "Juliaca     2\n",
            "Lima        6\n",
            "Puno        1\n",
            "Trujillo    5\n",
            "Name: nombre, dtype: int64\n",
            "       nombre  edad    ciudad  ingresos\n",
            "11    Micaela    21   Juliaca      5000\n",
            "3         Ana    22  Trujillo      2000\n",
            "20      Lucía    23  Trujillo      1500\n",
            "12      Diego    24     Cusco      3200\n",
            "7      Carlos    25     Cusco      1800\n",
            "13  Valentina    26  Trujillo      3500\n",
            "9      Andrés    27      Lima      2600\n",
            "1       María    28  Arequipa      3800\n",
            "4       Pedro    28  Arequipa      3200\n",
            "18   Fernanda    28     Cusco      2100\n",
            "16    Daniela    29      Lima      2700\n",
            "8       Sofía    29  Trujillo      2900\n",
            "14     Lorena    30      Lima      3800\n",
            "0        Juan    30      Lima      2500\n",
            "6       Laura    31      Lima      4200\n",
            "17     Manuel    31  Trujillo      2700\n",
            "15     Javier    32  Arequipa      5000\n",
            "10   Gabriela    33  Arequipa      4000\n",
            "21       José    34  Arequipa      4200\n",
            "19    Ricardo    35      Lima      4400\n",
            "2        Luis    35     Cusco      4800\n",
            "22      Willy    55      Puno      1300\n",
            "5      Leonel    64   Juliaca      4980\n"
          ]
        }
      ]
    },
    {
      "cell_type": "markdown",
      "source": [
        "##Adicional del ejemplo 01"
      ],
      "metadata": {
        "id": "_PnqqqFB8AqX"
      }
    },
    {
      "cell_type": "code",
      "source": [
        "# Promedio de ingresos de personas mayores a 30\n",
        "promedio_ingresos_30 = datos[(datos['edad'] > 30)]['ingresos'].mean().astype(int)\n",
        "print(promedio_ingresos_30)\n",
        "\n",
        "# Ingresos totales por ciudades\n",
        "ingresos_totales_ciudad = datos.groupby('ciudad')['ingresos'].sum()\n",
        "print(ingresos_totales_ciudad)\n",
        "\n",
        "#Persona con ingresos mas altos\n",
        "persona_ingreso_alto = datos[(datos['ingresos'] == datos['ingresos'].max())]\n",
        "print(persona_ingreso_alto)\n",
        "\n",
        "# Histograma de Edades\n",
        "edades_histograma = plt.hist(datos[\"edad\"])\n",
        "print(edades_histograma)\n",
        "\n",
        "# Agregar una columna a los datos de impustos\n",
        "datos[\"impuestos\"] = datos[\"ingresos\"] * 0.1\n",
        "print(datos)\n",
        "\n"
      ],
      "metadata": {
        "colab": {
          "base_uri": "https://localhost:8080/",
          "height": 1000
        },
        "id": "Wc-JdkW18Eqm",
        "outputId": "abb19253-7549-4bed-af75-0f6d0d27cdf5"
      },
      "execution_count": 111,
      "outputs": [
        {
          "output_type": "stream",
          "name": "stdout",
          "text": [
            "3953\n",
            "ciudad\n",
            "Arequipa    20200\n",
            "Cusco       11900\n",
            "Juliaca      9980\n",
            "Lima        20200\n",
            "Puno         1300\n",
            "Trujillo    12600\n",
            "Name: ingresos, dtype: int64\n",
            "     nombre  edad    ciudad  ingresos\n",
            "11  Micaela    21   Juliaca      5000\n",
            "15   Javier    32  Arequipa      5000\n",
            "(array([5., 7., 6., 3., 0., 0., 0., 1., 0., 1.]), array([21. , 25.3, 29.6, 33.9, 38.2, 42.5, 46.8, 51.1, 55.4, 59.7, 64. ]), <BarContainer object of 10 artists>)\n",
            "       nombre  edad    ciudad  ingresos  impuestos\n",
            "0        Juan    30      Lima      2500      250.0\n",
            "1       María    28  Arequipa      3800      380.0\n",
            "2        Luis    35     Cusco      4800      480.0\n",
            "3         Ana    22  Trujillo      2000      200.0\n",
            "4       Pedro    28  Arequipa      3200      320.0\n",
            "5      Leonel    64   Juliaca      4980      498.0\n",
            "6       Laura    31      Lima      4200      420.0\n",
            "7      Carlos    25     Cusco      1800      180.0\n",
            "8       Sofía    29  Trujillo      2900      290.0\n",
            "9      Andrés    27      Lima      2600      260.0\n",
            "10   Gabriela    33  Arequipa      4000      400.0\n",
            "11    Micaela    21   Juliaca      5000      500.0\n",
            "12      Diego    24     Cusco      3200      320.0\n",
            "13  Valentina    26  Trujillo      3500      350.0\n",
            "14     Lorena    30      Lima      3800      380.0\n",
            "15     Javier    32  Arequipa      5000      500.0\n",
            "16    Daniela    29      Lima      2700      270.0\n",
            "17     Manuel    31  Trujillo      2700      270.0\n",
            "18   Fernanda    28     Cusco      2100      210.0\n",
            "19    Ricardo    35      Lima      4400      440.0\n",
            "20      Lucía    23  Trujillo      1500      150.0\n",
            "21       José    34  Arequipa      4200      420.0\n",
            "22      Willy    55      Puno      1300      130.0\n"
          ]
        },
        {
          "output_type": "display_data",
          "data": {
            "text/plain": [
              "<Figure size 640x480 with 1 Axes>"
            ],
            "image/png": "[encoded data removed]"
          },
          "metadata": {}
        }
      ]
    },
    {
      "cell_type": "markdown",
      "source": [
        "#Ejercicio 2 - Carga de archivos CSV desde Drive (archivo 2)"
      ],
      "metadata": {
        "id": "0_zG6MOwudCY"
      }
    },
    {
      "cell_type": "code",
      "source": [
        "datos_2 = pd.read_csv('https://docs.google.com/spreadsheets/d/e/2PACX-1vRnDxdP6RaOXkkQhxb2Ly9Y_IWTwAwVslf72ItCiqR9TsT0inzu67p6-aoE_pw0U-pQG1zt5lMyuQYF/pub?gid=974510778&single=true&output=csv')\n",
        "print(datos_2)"
      ],
      "metadata": {
        "colab": {
          "base_uri": "https://localhost:8080/"
        },
        "id": "thC5o5PBuj6o",
        "outputId": "3e2135e2-96bf-4f5a-cc9f-dee1e312284a"
      },
      "execution_count": 28,
      "outputs": [
        {
          "output_type": "stream",
          "name": "stdout",
          "text": [
            "       nombre  edad     genero    ciudad  ingresos      educacion  \\\n",
            "0        Juan    28  Masculino      Lima      4500  Universitario   \n",
            "1       María    35   Femenino  Arequipa      3500     Secundaria   \n",
            "2        Luis    40  Masculino     Cusco      5200  Universitario   \n",
            "3         Ana    22   Femenino      Lima      2800  Universitario   \n",
            "4      Walter    19  Masculino   Juliaca      3100        Técnico   \n",
            "5       Pedro    30  Masculino  Arequipa      4000        Técnico   \n",
            "6       Laura    27   Femenino      Lima      3200     Secundaria   \n",
            "7      Carlos    29  Masculino     Cusco      4800  Universitario   \n",
            "8       Sofía    25   Femenino      Lima      3000  Universitario   \n",
            "9   Esmeralda    23   Femenino   Juliaca      3200  Universitario   \n",
            "10     Andrés    33  Masculino  Arequipa      4200  Universitario   \n",
            "11   Gabriela    31   Femenino      Lima      3800  Universitario   \n",
            "12      Diego    26  Masculino     Cusco      3600        Técnico   \n",
            "13    Ernesto    42  Masculino   Juliaca      4200        Técnico   \n",
            "\n",
            "    estado_civil  \n",
            "0        Soltero  \n",
            "1         Casado  \n",
            "2         Casado  \n",
            "3        Soltero  \n",
            "4        Soltero  \n",
            "5        Soltero  \n",
            "6         Casado  \n",
            "7   Comprometido  \n",
            "8        Soltero  \n",
            "9        Soltero  \n",
            "10        Casado  \n",
            "11    Divorciado  \n",
            "12  Comprometido  \n",
            "13        Casado  \n"
          ]
        }
      ]
    }
  ]
}